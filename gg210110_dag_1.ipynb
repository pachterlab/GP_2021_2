{
  "nbformat": 4,
  "nbformat_minor": 0,
  "metadata": {
    "colab": {
      "name": "gg210110_dag_1",
      "provenance": [],
      "collapsed_sections": [],
      "authorship_tag": "ABX9TyNhGJoAedtrjd0p4x0eJtlO",
      "include_colab_link": true
    },
    "kernelspec": {
      "name": "python3",
      "display_name": "Python 3"
    }
  },
  "cells": [
    {
      "cell_type": "markdown",
      "metadata": {
        "id": "view-in-github",
        "colab_type": "text"
      },
      "source": [
        "<a href=\"https://colab.research.google.com/github/pachterlab/GP_2021_2/blob/main/gg210110_dag_1.ipynb\" target=\"_parent\"><img src=\"https://colab.research.google.com/assets/colab-badge.svg\" alt=\"Open In Colab\"/></a>"
      ]
    },
    {
      "cell_type": "code",
      "metadata": {
        "id": "YeVGSlhJDqXY"
      },
      "source": [
        "import numpy as np\n",
        "import matplotlib.pyplot as plt\n",
        "%config InlineBackend.figure_format = 'retina'\n",
        "_=np.seterr(divide='ignore')"
      ],
      "execution_count": 1,
      "outputs": []
    },
    {
      "cell_type": "code",
      "metadata": {
        "colab": {
          "base_uri": "https://localhost:8080/"
        },
        "id": "QesEzCjubWpk",
        "outputId": "313c8064-4081-47ef-a27e-c5352ec46b04"
      },
      "source": [
        "!wget -O dag_cme_burst.py https://raw.githubusercontent.com/pachterlab/GP_2021_2/main/dag_cme_burst.py"
      ],
      "execution_count": 2,
      "outputs": [
        {
          "output_type": "stream",
          "text": [
            "--2021-05-27 01:53:38--  https://raw.githubusercontent.com/pachterlab/GP_2021_2/main/dag_cme_burst.py\n",
            "Resolving raw.githubusercontent.com (raw.githubusercontent.com)... 185.199.108.133, 185.199.109.133, 185.199.110.133, ...\n",
            "Connecting to raw.githubusercontent.com (raw.githubusercontent.com)|185.199.108.133|:443... connected.\n",
            "HTTP request sent, awaiting response... 200 OK\n",
            "Length: 6631 (6.5K) [text/plain]\n",
            "Saving to: ‘dag_cme_burst.py’\n",
            "\n",
            "\rdag_cme_burst.py      0%[                    ]       0  --.-KB/s               \rdag_cme_burst.py    100%[===================>]   6.48K  --.-KB/s    in 0s      \n",
            "\n",
            "2021-05-27 01:53:38 (72.8 MB/s) - ‘dag_cme_burst.py’ saved [6631/6631]\n",
            "\n"
          ],
          "name": "stdout"
        }
      ]
    },
    {
      "cell_type": "code",
      "metadata": {
        "id": "ne9M9EXeggZZ"
      },
      "source": [
        "from dag_cme_burst import *"
      ],
      "execution_count": 3,
      "outputs": []
    },
    {
      "cell_type": "code",
      "metadata": {
        "id": "uqc7CnBynpA_"
      },
      "source": [
        "#a e s t h e t i c s\n",
        "col_hist = [0.7]*3\n",
        "col_theory = [1,0,0]\n",
        "w_theory = 1.5\n",
        "fontsize = 12"
      ],
      "execution_count": 5,
      "outputs": []
    },
    {
      "cell_type": "code",
      "metadata": {
        "id": "zepoDB1RECYn"
      },
      "source": [
        "nnod = 7\n",
        "nedg = 11\n",
        "seed = 1\n",
        "G=random_dag(nnod,nedg,seed)\n",
        "nedg = len(G.edges())"
      ],
      "execution_count": 6,
      "outputs": []
    },
    {
      "cell_type": "code",
      "metadata": {
        "id": "vy7BXN6egY78",
        "outputId": "19aca85d-2cf5-4263-96d9-640bd2cf9579",
        "colab": {
          "base_uri": "https://localhost:8080/"
        }
      },
      "source": [
        "G.edges()"
      ],
      "execution_count": 8,
      "outputs": [
        {
          "output_type": "execute_result",
          "data": {
            "text/plain": [
              "OutEdgeView([(0, 3), (1, 6), (1, 5), (1, 2), (3, 2), (3, 4), (5, 0), (5, 6), (5, 2), (5, 4), (6, 4)])"
            ]
          },
          "metadata": {
            "tags": []
          },
          "execution_count": 8
        }
      ]
    },
    {
      "cell_type": "code",
      "metadata": {
        "id": "unltp3kYfe2_"
      },
      "source": [
        "np.random.seed(837)\n",
        "n_deg = 3"
      ],
      "execution_count": null,
      "outputs": []
    },
    {
      "cell_type": "code",
      "metadata": {
        "id": "Jjhk7OoNjAfj"
      },
      "source": [
        "nrxn = nedg+1+n_deg"
      ],
      "execution_count": null,
      "outputs": []
    },
    {
      "cell_type": "code",
      "metadata": {
        "id": "rOsapTqRJXwD"
      },
      "source": [
        "S = construct_S(nrxn,nnod,G,n_deg)"
      ],
      "execution_count": null,
      "outputs": []
    },
    {
      "cell_type": "code",
      "metadata": {
        "colab": {
          "base_uri": "https://localhost:8080/"
        },
        "id": "4_w8anEDhxxC",
        "outputId": "9f597390-fa41-48f4-d60a-4cde5edee847"
      },
      "source": [
        "S"
      ],
      "execution_count": null,
      "outputs": [
        {
          "output_type": "execute_result",
          "data": {
            "text/plain": [
              "array([[-5.,  0.,  0.,  0.,  0.,  0.,  0.],\n",
              "       [ 0., -1.,  0.,  1.,  0.,  0.,  0.],\n",
              "       [-1.,  0.,  1.,  0.,  0.,  0.,  0.],\n",
              "       [-1.,  0.,  0.,  0.,  0.,  1.,  0.],\n",
              "       [-1.,  0.,  0.,  0.,  0.,  0.,  1.],\n",
              "       [ 0.,  0.,  1., -1.,  0.,  0.,  0.],\n",
              "       [ 0.,  0.,  0., -1.,  1.,  0.,  0.],\n",
              "       [ 0.,  1.,  0.,  0.,  0., -1.,  0.],\n",
              "       [ 0.,  0.,  1.,  0.,  0., -1.,  0.],\n",
              "       [ 0.,  0.,  0.,  0.,  1., -1.,  0.],\n",
              "       [ 0.,  0.,  0.,  0.,  0., -1.,  1.],\n",
              "       [ 0.,  0.,  0.,  0.,  1.,  0., -1.],\n",
              "       [ 0., -1.,  0.,  0.,  0.,  0.,  0.],\n",
              "       [ 0.,  0., -1.,  0.,  0.,  0.,  0.],\n",
              "       [ 0.,  0.,  0.,  0., -1.,  0.,  0.]])"
            ]
          },
          "metadata": {
            "tags": []
          },
          "execution_count": 8
        }
      ]
    },
    {
      "cell_type": "code",
      "metadata": {
        "id": "pw4apMCLfQkW"
      },
      "source": [
        "k = 10**(np.random.rand(nrxn)-0.5)"
      ],
      "execution_count": null,
      "outputs": []
    },
    {
      "cell_type": "code",
      "metadata": {
        "id": "_B2b088qmJqc"
      },
      "source": [
        "bs = 10"
      ],
      "execution_count": null,
      "outputs": []
    },
    {
      "cell_type": "code",
      "metadata": {
        "id": "_cOqtV8YmNSz"
      },
      "source": [
        "S[0,0]=bs"
      ],
      "execution_count": null,
      "outputs": []
    },
    {
      "cell_type": "code",
      "metadata": {
        "id": "bTN6nU1ulQPp"
      },
      "source": [
        "nCells = 10000\n",
        "T = 5\n",
        "measure_time = T/min(k)\n",
        "tvec = np.linspace(0,measure_time,2,endpoint=True)\n",
        "t_matrix = np.matlib.repmat(tvec,nCells,1)\n",
        "X=gillvec(k,t_matrix,S,nCells)\n",
        "X = X[:,-1,:]"
      ],
      "execution_count": null,
      "outputs": []
    },
    {
      "cell_type": "code",
      "metadata": {
        "id": "iMOEgrxmdJTP"
      },
      "source": [
        "CV = np.zeros((nnod,nnod))\n",
        "for i in range(nnod):\n",
        "    for j in range(nnod):\n",
        "        CV[i,j] = compute_cov(S,k,i,j)\n",
        "cov_exp = np.cov(X.T)"
      ],
      "execution_count": null,
      "outputs": []
    },
    {
      "cell_type": "code",
      "metadata": {
        "colab": {
          "base_uri": "https://localhost:8080/",
          "height": 440
        },
        "id": "v3MKMGhOQ_lG",
        "outputId": "772299f5-c7bb-4f6d-d1cc-38669d209a21"
      },
      "source": [
        "nr = 2\n",
        "nc = 4  \n",
        "fig1,ax1=plt.subplots(nrows=nr,ncols=nc,figsize=(10,6))\n",
        "mx = np.amax(X,0)+5\n",
        "\n",
        "            \n",
        "for i in range(nnod):\n",
        "    ax_loc = np.unravel_index(i,[nr,nc])\n",
        "    x = np.arange(0,mx[i],dtype=np.int32)\n",
        "    bins_ = x-0.5\n",
        "    ax1[ax_loc].hist(X[:,i],bins=bins_, density=True,color=col_hist)\n",
        "    bnd = np.ones(nnod,dtype=np.int32)\n",
        "    bnd[i] = x[-1]+1\n",
        "    # print(bnd)\n",
        "    P = np.squeeze(cme_integrator(k,bnd,S,np.inf))\n",
        "    ax1[ax_loc].plot(x,P,color=col_theory, linewidth=w_theory)\n",
        "    ax1[ax_loc].set_xticks([])\n",
        "    ax1[ax_loc].set_yticks([])\n",
        "    \n",
        "    ax1[ax_loc].set_title('Species '+chr(i+97),fontsize=fontsize)\n",
        "\n",
        "ax_loc=np.unravel_index(7,[nr,nc])\n",
        "xr = [np.min(CV),np.max(CV)]\n",
        "ax1[ax_loc].plot(xr,xr,color=col_theory,linewidth=w_theory)\n",
        "ax1[ax_loc].scatter(CV.flatten(),cov_exp.flatten(),c='k',s=12)\n",
        "ax1[ax_loc].set_xscale('log')\n",
        "ax1[ax_loc].set_yscale('log')\n",
        "ax1[ax_loc].set_xticks([])\n",
        "ax1[ax_loc].set_yticks([])\n",
        "ax1[ax_loc].set_xlabel('Theoretical covariance',fontsize=fontsize)\n",
        "ax1[ax_loc].set_ylabel('Empirical covariance',fontsize=fontsize)\n",
        "\n",
        "\n",
        "\n",
        "\n",
        "fig1.tight_layout()\n",
        "plt.savefig('hist_corr_fig.png',dpi=450)"
      ],
      "execution_count": null,
      "outputs": [
        {
          "output_type": "display_data",
          "data": {
            "image/png": "[encoded data removed]",
            "text/plain": [
              "<Figure size 720x432 with 8 Axes>"
            ]
          },
          "metadata": {
            "tags": [],
            "image/png": {
              "width": 705,
              "height": 423
            }
          }
        }
      ]
    },
    {
      "cell_type": "code",
      "metadata": {
        "colab": {
          "base_uri": "https://localhost:8080/"
        },
        "id": "yWE0-euddM74",
        "outputId": "a225bbe9-01ce-48a1-99f8-be96bbacacc9"
      },
      "source": [
        "np.round(k[0],2)"
      ],
      "execution_count": null,
      "outputs": [
        {
          "output_type": "execute_result",
          "data": {
            "text/plain": [
              "0.44"
            ]
          },
          "metadata": {
            "tags": []
          },
          "execution_count": 20
        }
      ]
    },
    {
      "cell_type": "code",
      "metadata": {
        "colab": {
          "base_uri": "https://localhost:8080/"
        },
        "id": "okgxVzaXfLkG",
        "outputId": "0f0315a2-9b08-42c4-a1a5-28ad77f242f8"
      },
      "source": [
        "np.round(k[1:-3],2)"
      ],
      "execution_count": null,
      "outputs": [
        {
          "output_type": "execute_result",
          "data": {
            "text/plain": [
              "array([0.48, 2.12, 1.31, 2.21, 1.16, 2.41, 0.4 , 1.19, 0.37, 1.19, 0.53])"
            ]
          },
          "metadata": {
            "tags": []
          },
          "execution_count": 21
        }
      ]
    },
    {
      "cell_type": "code",
      "metadata": {
        "colab": {
          "base_uri": "https://localhost:8080/"
        },
        "id": "iTG_QRrbfMVu",
        "outputId": "620c3cdf-afb3-4cb5-86c4-8fd01f1ac6d5"
      },
      "source": [
        "np.round(k[-3:],2)"
      ],
      "execution_count": null,
      "outputs": [
        {
          "output_type": "execute_result",
          "data": {
            "text/plain": [
              "array([0.94, 2.38, 0.72])"
            ]
          },
          "metadata": {
            "tags": []
          },
          "execution_count": 22
        }
      ]
    },
    {
      "cell_type": "code",
      "metadata": {
        "id": "xo7gQRxXfNJk"
      },
      "source": [
        ""
      ],
      "execution_count": null,
      "outputs": []
    }
  ]
}